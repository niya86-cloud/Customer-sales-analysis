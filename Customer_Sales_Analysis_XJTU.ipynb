{
 "cells": [
  {
   "cell_type": "markdown",
   "id": "8e9fc741",
   "metadata": {},
   "source": [
    "\n",
    "# Customer Sales Analysis with Python\n",
    "\n",
    "This Jupyter Notebook is part of my application for the **Summer Camp program at Xi’an Jiaotong University**.\n",
    "\n",
    "It demonstrates my skills in data analysis using Python libraries such as pandas, matplotlib, and seaborn.\n"
   ]
  },
  {
   "cell_type": "code",
   "execution_count": null,
   "id": "96da2531",
   "metadata": {},
   "outputs": [],
   "source": [
    "\n",
    "import pandas as pd\n",
    "import matplotlib.pyplot as plt\n",
    "import seaborn as sns\n",
    "from datetime import datetime\n"
   ]
  },
  {
   "cell_type": "code",
   "execution_count": null,
   "id": "32ba3373",
   "metadata": {},
   "outputs": [],
   "source": [
    "\n",
    "# Read customer and sales data\n",
    "customers = pd.read_csv('customers.csv')\n",
    "sales = pd.read_csv('sales.csv')\n",
    "\n",
    "# Convert date column to datetime\n",
    "sales['date'] = pd.to_datetime(sales['date'])\n",
    "sales['month'] = sales['date'].dt.to_period('M')\n"
   ]
  },
  {
   "cell_type": "code",
   "execution_count": null,
   "id": "76f1fa65",
   "metadata": {},
   "outputs": [],
   "source": [
    "\n",
    "# Total and average sales\n",
    "total_sales = sales['amount'].sum()\n",
    "average_sales = sales['amount'].mean()\n",
    "\n",
    "# Loyal customers (3+ purchases)\n",
    "loyal_customers = sales['customer_id'].value_counts()\n",
    "loyal_customers = loyal_customers[loyal_customers >= 3]\n",
    "\n",
    "# Monthly sales\n",
    "monthly_sales = sales.groupby('month')['amount'].sum()\n",
    "\n",
    "# Top-selling product\n",
    "top_product = sales['product_name'].value_counts().idxmax()\n",
    "\n",
    "# Summary output\n",
    "summary = f\"\"\"\n",
    "📊 Sales Summary:\n",
    "\n",
    "- Total sales: ${total_sales:.2f}\n",
    "- Average sale: ${average_sales:.2f}\n",
    "- Loyal customers (3+ purchases): {len(loyal_customers)}\n",
    "- Top-selling product: {top_product}\n",
    "\"\"\"\n",
    "print(summary)\n"
   ]
  },
  {
   "cell_type": "code",
   "execution_count": null,
   "id": "a813668e",
   "metadata": {},
   "outputs": [],
   "source": [
    "\n",
    "# Monthly Sales Line Chart\n",
    "plt.figure(figsize=(10, 5))\n",
    "monthly_sales.plot(kind='line', marker='o')\n",
    "plt.title('Monthly Sales')\n",
    "plt.xlabel('Month')\n",
    "plt.ylabel('Total Sales Amount')\n",
    "plt.grid(True)\n",
    "plt.tight_layout()\n",
    "plt.show()\n",
    "\n",
    "# Pie chart of loyal customers\n",
    "plt.figure(figsize=(6, 6))\n",
    "loyal_customers.plot(kind='pie', autopct='%1.1f%%')\n",
    "plt.title('Loyal Customers (3+ purchases)')\n",
    "plt.ylabel('')\n",
    "plt.tight_layout()\n",
    "plt.show()\n",
    "\n",
    "# Product Sales Count Chart\n",
    "plt.figure(figsize=(8, 5))\n",
    "sns.countplot(data=sales, x='product_name', order=sales['product_name'].value_counts().index)\n",
    "plt.title('Product Sales Count')\n",
    "plt.xlabel('Product')\n",
    "plt.ylabel('Count')\n",
    "plt.tight_layout()\n",
    "plt.show()\n"
   ]
  }
 ],
 "metadata": {},
 "nbformat": 4,
 "nbformat_minor": 5
}
